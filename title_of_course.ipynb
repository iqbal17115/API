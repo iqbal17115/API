{
 "cells": [
  {
   "cell_type": "code",
   "execution_count": 30,
   "id": "a24b5cc1",
   "metadata": {},
   "outputs": [
    {
     "name": "stdout",
     "output_type": "stream",
     "text": [
      "Machine Learning\n"
     ]
    }
   ],
   "source": [
    "import requests as req\n",
    "\n",
    "response = req.get('https://api.codingninjas.com/api/v3/courses', params={\"id\": 19})\n",
    "data = response.json()\n",
    "\n",
    "for i in data['data']['courses']:\n",
    "    if i['id'] == 19:\n",
    "        print(i['title'])\n",
    "    "
   ]
  }
 ],
 "metadata": {
  "kernelspec": {
   "display_name": "Python 3 (ipykernel)",
   "language": "python",
   "name": "python3"
  },
  "language_info": {
   "codemirror_mode": {
    "name": "ipython",
    "version": 3
   },
   "file_extension": ".py",
   "mimetype": "text/x-python",
   "name": "python",
   "nbconvert_exporter": "python",
   "pygments_lexer": "ipython3",
   "version": "3.9.13"
  }
 },
 "nbformat": 4,
 "nbformat_minor": 5
}

{
 "cells": [
  {
   "cell_type": "code",
   "execution_count": 36,
   "id": "ffe7f6f0",
   "metadata": {},
   "outputs": [],
   "source": [
    "import requests as rq"
   ]
  },
  {
   "cell_type": "code",
   "execution_count": 37,
   "id": "ac478264",
   "metadata": {},
   "outputs": [
    {
     "name": "stdout",
     "output_type": "stream",
     "text": [
      "404\n"
     ]
    }
   ],
   "source": [
    "response = rq.get('https://www.metaweather.com/api/location/search/')\n",
    "print(response.status_code)"
   ]
  },
  {
   "cell_type": "code",
   "execution_count": 38,
   "id": "70cbcfc0",
   "metadata": {},
   "outputs": [
    {
     "name": "stdout",
     "output_type": "stream",
     "text": [
      "404\n",
      "https://www.metaweather.com/api/location/search/?query=Delhi\n"
     ]
    }
   ],
   "source": [
    "response = rq.get('https://www.metaweather.com/api/location/search/', params = {'query': 'Delhi'})\n",
    "print(response.status_code)\n",
    "print(response.url)\n",
    "# print(response.json())"
   ]
  },
  {
   "cell_type": "code",
   "execution_count": 39,
   "id": "69c851ab",
   "metadata": {},
   "outputs": [
    {
     "name": "stdout",
     "output_type": "stream",
     "text": [
      "200\n",
      "https://api.nasa.gov/planetary/apod?api_key=DEMO_KEY\n",
      "{'date': '2022-12-11', 'explanation': 'The strangest moon in the Solar System is bright yellow.  The featured picture, an attempt to show how Io would appear in the \"true colors\" perceptible to the average human eye, was taken in 1999 July by the Galileo spacecraft that orbited Jupiter from 1995 to 2003.  Io\\'s colors derive from sulfur and molten silicate rock.  The unusual surface of Io is kept very young by its system of active volcanoes.  The intense tidal gravity of Jupiter stretches Io and damps wobbles caused by Jupiter\\'s other Galilean moons.  The resulting friction greatly heats Io\\'s interior, causing  molten rock to explode through the surface.  Io\\'s volcanoes are so active that they are effectively turning the whole moon inside out.  Some of Io\\'s volcanic lava is so hot it glows in the dark.   Artemis 1 Coverage: Orion return and splashdown', 'hdurl': 'https://apod.nasa.gov/apod/image/2212/iotruecolor_galileo_2796.jpg', 'media_type': 'image', 'service_version': 'v1', 'title': 'Io in True Color', 'url': 'https://apod.nasa.gov/apod/image/2212/iotruecolor_galileo_960.jpg'}\n"
     ]
    }
   ],
   "source": [
    "response = rq.get('https://api.nasa.gov/planetary/apod', params = {'api_key': 'DEMO_KEY'})\n",
    "print(response.status_code)\n",
    "print(response.url)\n",
    "print(response.json())"
   ]
  },
  {
   "cell_type": "code",
   "execution_count": 40,
   "id": "368ed156",
   "metadata": {},
   "outputs": [
    {
     "name": "stdout",
     "output_type": "stream",
     "text": [
      "200\n",
      "{'meta': {'name': 'openaq-api', 'license': 'CC BY 4.0d', 'website': 'api.openaq.org', 'page': 1, 'limit': 2, 'found': 9}, 'results': [{'country': 'AE', 'name': 'Abu Al Abyad', 'city': 'Abu Al Abyad', 'count': 6840, 'locations': 1}, {'country': 'AE', 'name': 'Abu Dhabi', 'city': 'Abu Dhabi', 'count': 253249, 'locations': 10}]}\n",
      "https://api.openaq.org/v1/cities?country=AE&limit=2\n"
     ]
    }
   ],
   "source": [
    "response = rq.get('https://api.openaq.org/v1/cities', params = {'country': 'AE', 'limit': 2})\n",
    "print(response.status_code)\n",
    "print(response.json())\n",
    "print(response.url)"
   ]
  },
  {
   "cell_type": "code",
   "execution_count": null,
   "id": "b12306b1",
   "metadata": {},
   "outputs": [],
   "source": []
  }
 ],
 "metadata": {
  "kernelspec": {
   "display_name": "Python 3 (ipykernel)",
   "language": "python",
   "name": "python3"
  },
  "language_info": {
   "codemirror_mode": {
    "name": "ipython",
    "version": 3
   },
   "file_extension": ".py",
   "mimetype": "text/x-python",
   "name": "python",
   "nbconvert_exporter": "python",
   "pygments_lexer": "ipython3",
   "version": "3.9.13"
  }
 },
 "nbformat": 4,
 "nbformat_minor": 5
}

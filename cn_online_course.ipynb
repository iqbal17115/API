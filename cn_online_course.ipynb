{
 "cells": [
  {
   "cell_type": "code",
   "execution_count": 23,
   "id": "f1148b76",
   "metadata": {},
   "outputs": [],
   "source": [
    "import requests\n",
    "response = requests.get('https://api.codingninjas.com/api/v3/courses')\n",
    "data = response.json()"
   ]
  },
  {
   "cell_type": "code",
   "execution_count": 25,
   "id": "e03dcfb5",
   "metadata": {},
   "outputs": [
    {
     "name": "stdout",
     "output_type": "stream",
     "text": [
      "Premium Competitive Programming Course\n",
      "C++ Foundation with Data Structures\n",
      "Aptitude for professionals\n",
      "Premium Data Science Course\n",
      "Premium Android App Development\n",
      "Premium Machine Learning Course\n",
      "Premium Data structures and Algorithms [C++/Java/Python]\n",
      "System Design Course\n",
      "Ninja Competitive Programmer Track\n",
      "Premium Full Stack Web Development\n",
      "Machine Learning & Deep Learning Course\n",
      "Advanced  Front-End Web Development with React\n",
      "JAVA Foundation with Data Structures\n",
      "Ninja Android Developer Career Track \n",
      "Full Stack Web Development\n",
      "Interview Preparation Course\n",
      "Data Science & Machine Learning Complete\n",
      "Grokking the Operating Systems Interview\n",
      "Ninja  Web Developer Career Track - NodeJS & ReactJs\n",
      "Ninja  Web Developer Career Track - NodeJS\n",
      "Competitive Programming Course\n",
      "Android Development with Kotlin\n",
      "Python Foundation with Data Structures\n",
      "Ninja Data Scientist Career Track\n",
      "Ninja Machine Learning Engineer Career Track\n",
      "Aptitude Preparation Course\n"
     ]
    }
   ],
   "source": [
    "for res in data['data']['courses']:\n",
    "    if(res['available_online']==True):\n",
    "        print(res['name'])"
   ]
  },
  {
   "cell_type": "code",
   "execution_count": null,
   "id": "57e4a4aa",
   "metadata": {},
   "outputs": [],
   "source": []
  }
 ],
 "metadata": {
  "kernelspec": {
   "display_name": "Python 3 (ipykernel)",
   "language": "python",
   "name": "python3"
  },
  "language_info": {
   "codemirror_mode": {
    "name": "ipython",
    "version": 3
   },
   "file_extension": ".py",
   "mimetype": "text/x-python",
   "name": "python",
   "nbconvert_exporter": "python",
   "pygments_lexer": "ipython3",
   "version": "3.9.13"
  }
 },
 "nbformat": 4,
 "nbformat_minor": 5
}

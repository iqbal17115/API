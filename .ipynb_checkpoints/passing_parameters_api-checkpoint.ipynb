{
 "cells": [
  {
   "cell_type": "code",
   "execution_count": 27,
   "id": "ffe7f6f0",
   "metadata": {},
   "outputs": [],
   "source": [
    "import requests as rq"
   ]
  },
  {
   "cell_type": "code",
   "execution_count": 28,
   "id": "ac478264",
   "metadata": {},
   "outputs": [
    {
     "name": "stdout",
     "output_type": "stream",
     "text": [
      "404\n"
     ]
    }
   ],
   "source": [
    "response = rq.get('https://www.metaweather.com/api/location/search/')\n",
    "print(response.status_code)"
   ]
  },
  {
   "cell_type": "code",
   "execution_count": 29,
   "id": "70cbcfc0",
   "metadata": {},
   "outputs": [
    {
     "name": "stdout",
     "output_type": "stream",
     "text": [
      "404\n",
      "https://www.metaweather.com/api/location/search/?query=Delhi\n"
     ]
    }
   ],
   "source": [
    "response = rq.get('https://www.metaweather.com/api/location/search/', params = {'query': 'Delhi'})\n",
    "print(response.status_code)\n",
    "print(response.url)\n",
    "# print(response.json())"
   ]
  },
  {
   "cell_type": "code",
   "execution_count": 30,
   "id": "69c851ab",
   "metadata": {},
   "outputs": [
    {
     "name": "stdout",
     "output_type": "stream",
     "text": [
      "200\n",
      "https://api.nasa.gov/planetary/apod?api_key=DEMO_KEY\n",
      "{'date': '2022-12-02', 'explanation': \"Bright at infrared wavelengths, this merging galaxy pair is some 500 million light-years away toward the constellation Delphinus. The cosmic mashup is seen against a background of even more distant galaxies, and occasional spiky foreground stars. But the galaxy merger itself spans about 100,000 light-years in this deep James Webb Space Telescope image. The image data is from Webb's Near-InfraRed Camera (NIRCam) and Mid-InfraRed Instrument (MIRI). Their combined, sharp infrared view follows galactic scale restructuring in the dusty merger's wild jumble of intense star forming regions  and distorted spiral arms\", 'hdurl': 'https://apod.nasa.gov/apod/image/2212/potm2211a.jpg', 'media_type': 'image', 'service_version': 'v1', 'title': 'Merging Galaxy Pair IIZw096', 'url': 'https://apod.nasa.gov/apod/image/2212/potm2211a_1024.jpg'}\n"
     ]
    }
   ],
   "source": [
    "response = rq.get('https://api.nasa.gov/planetary/apod', params = {'api_key': 'DEMO_KEY'})\n",
    "print(response.status_code)\n",
    "print(response.url)\n",
    "print(response.json())"
   ]
  },
  {
   "cell_type": "code",
   "execution_count": null,
   "id": "b4aab510",
   "metadata": {},
   "outputs": [],
   "source": []
  },
  {
   "cell_type": "code",
   "execution_count": null,
   "id": "9af4f087",
   "metadata": {},
   "outputs": [],
   "source": []
  }
 ],
 "metadata": {
  "kernelspec": {
   "display_name": "Python 3 (ipykernel)",
   "language": "python",
   "name": "python3"
  },
  "language_info": {
   "codemirror_mode": {
    "name": "ipython",
    "version": 3
   },
   "file_extension": ".py",
   "mimetype": "text/x-python",
   "name": "python",
   "nbconvert_exporter": "python",
   "pygments_lexer": "ipython3",
   "version": "3.9.13"
  }
 },
 "nbformat": 4,
 "nbformat_minor": 5
}

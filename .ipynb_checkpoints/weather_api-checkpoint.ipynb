{
 "cells": [
  {
   "cell_type": "code",
   "execution_count": null,
   "id": "70d5f93d",
   "metadata": {},
   "outputs": [],
   "source": [
    "import requests\n",
    "response = requests.get('  https://api.met.no/weatherapi/airqualityforecast/0.1/met?station=NO0057A')\n",
    "print(response)\n",
    "print(response.text)"
   ]
  }
 ],
 "metadata": {
  "kernelspec": {
   "display_name": "Python 3 (ipykernel)",
   "language": "python",
   "name": "python3"
  },
  "language_info": {
   "codemirror_mode": {
    "name": "ipython",
    "version": 3
   },
   "file_extension": ".py",
   "mimetype": "text/x-python",
   "name": "python",
   "nbconvert_exporter": "python",
   "pygments_lexer": "ipython3",
   "version": "3.9.13"
  }
 },
 "nbformat": 4,
 "nbformat_minor": 5
}

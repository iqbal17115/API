{
 "cells": [
  {
   "cell_type": "code",
   "execution_count": 9,
   "id": "160ea165",
   "metadata": {},
   "outputs": [],
   "source": [
    "import requests as rq\n",
    "response = rq.get('https://dog.ceo/api/breeds/list/all')\n",
    "data = response.json()"
   ]
  },
  {
   "cell_type": "code",
   "execution_count": 10,
   "id": "e1904661",
   "metadata": {},
   "outputs": [
    {
     "name": "stdout",
     "output_type": "stream",
     "text": [
      "afghan\n",
      "basset\n",
      "blood\n",
      "english\n",
      "ibizan\n",
      "plott\n",
      "walker\n"
     ]
    }
   ],
   "source": [
    "for res in data['message']['hound']:\n",
    "    print(res)"
   ]
  }
 ],
 "metadata": {
  "kernelspec": {
   "display_name": "Python 3 (ipykernel)",
   "language": "python",
   "name": "python3"
  },
  "language_info": {
   "codemirror_mode": {
    "name": "ipython",
    "version": 3
   },
   "file_extension": ".py",
   "mimetype": "text/x-python",
   "name": "python",
   "nbconvert_exporter": "python",
   "pygments_lexer": "ipython3",
   "version": "3.9.13"
  }
 },
 "nbformat": 4,
 "nbformat_minor": 5
}

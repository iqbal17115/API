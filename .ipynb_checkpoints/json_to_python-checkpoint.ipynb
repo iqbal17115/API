{
 "cells": [
  {
   "cell_type": "code",
   "execution_count": 29,
   "id": "845efbe2",
   "metadata": {},
   "outputs": [
    {
     "name": "stdout",
     "output_type": "stream",
     "text": [
      "{'Name': 'Md. Iqbal Hossain'}\n",
      "<class 'dict'>\n",
      "Md. Iqbal Hossain\n"
     ]
    }
   ],
   "source": [
    "import json\n",
    "json_data = '{\"Name\": \"Md. Iqbal Hossain\"}'\n",
    "python_data = json.loads(json_data)\n",
    "print(python_data)\n",
    "print(type(python_data))\n",
    "print(python_data['Name'])"
   ]
  },
  {
   "cell_type": "code",
   "execution_count": 30,
   "id": "303662b3",
   "metadata": {},
   "outputs": [
    {
     "name": "stdout",
     "output_type": "stream",
     "text": [
      "11\n",
      "<class 'int'>\n"
     ]
    }
   ],
   "source": [
    "json_data = '{\"Id\": 11}'\n",
    "python_data = json.loads(json_data)\n",
    "print(python_data['Id'])\n",
    "print(type(python_data['Id']))"
   ]
  },
  {
   "cell_type": "code",
   "execution_count": 31,
   "id": "2d3cf3c8",
   "metadata": {},
   "outputs": [
    {
     "name": "stdout",
     "output_type": "stream",
     "text": [
      "None\n",
      "<class 'NoneType'>\n"
     ]
    }
   ],
   "source": [
    "json_data = '{\"Id\": null}'\n",
    "python_data = json.loads(json_data)\n",
    "print(python_data['Id'])\n",
    "print(type(python_data['Id']))"
   ]
  },
  {
   "cell_type": "code",
   "execution_count": 32,
   "id": "f9bf2b66",
   "metadata": {},
   "outputs": [
    {
     "name": "stdout",
     "output_type": "stream",
     "text": [
      "Md. Iqbal Hossain\n",
      "11\n"
     ]
    }
   ],
   "source": [
    "json_data = '{\"Student\": {\"Name\": \"Md. Iqbal Hossain\", \"Id\": 11, \"Marks\": 55.50} }'\n",
    "python_data = json.loads(json_data)\n",
    "student_details = python_data['Student'];\n",
    "print(student_details['Name'])\n",
    "print(student_details['Id'])"
   ]
  },
  {
   "cell_type": "code",
   "execution_count": 33,
   "id": "f70d70d0",
   "metadata": {},
   "outputs": [
    {
     "name": "stdout",
     "output_type": "stream",
     "text": [
      "<class 'dict'>\n",
      "<class 'list'>\n"
     ]
    }
   ],
   "source": [
    "json_data = '{\"Fruits\": [\"Mango\", \"Apple\", \"Watermelon\", \"Dragon\"] }'\n",
    "python_data = json.loads(json_data)\n",
    "print(type(python_data))\n",
    "print(type(python_data['Fruits']))"
   ]
  }
 ],
 "metadata": {
  "kernelspec": {
   "display_name": "Python 3 (ipykernel)",
   "language": "python",
   "name": "python3"
  },
  "language_info": {
   "codemirror_mode": {
    "name": "ipython",
    "version": 3
   },
   "file_extension": ".py",
   "mimetype": "text/x-python",
   "name": "python",
   "nbconvert_exporter": "python",
   "pygments_lexer": "ipython3",
   "version": "3.9.12"
  }
 },
 "nbformat": 4,
 "nbformat_minor": 5
}

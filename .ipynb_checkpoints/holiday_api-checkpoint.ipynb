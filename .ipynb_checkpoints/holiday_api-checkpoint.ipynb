{
 "cells": [
  {
   "cell_type": "code",
   "execution_count": 4,
   "id": "c152ca21",
   "metadata": {},
   "outputs": [
    {
     "name": "stdout",
     "output_type": "stream",
     "text": [
      "<Response [200]>\n",
      "[{\"name\":\"Christmas Day\",\"name_local\":\"\",\"language\":\"\",\"description\":\"\",\"country\":\"US\",\"location\":\"United States\",\"type\":\"National\",\"date\":\"12/25/2020\",\"date_year\":\"2020\",\"date_month\":\"12\",\"date_day\":\"25\",\"week_day\":\"Friday\"}]\n"
     ]
    }
   ],
   "source": [
    "import requests\n",
    "response = requests.get('https://holidays.abstractapi.com/v1/?api_key=d4f66a4fded045709e07004b5db1e138&country=IN&year=2019&month=10&day=2')\n",
    "print(response)\n",
    "print(response.text)"
   ]
  }
 ],
 "metadata": {
  "kernelspec": {
   "display_name": "Python 3 (ipykernel)",
   "language": "python",
   "name": "python3"
  },
  "language_info": {
   "codemirror_mode": {
    "name": "ipython",
    "version": 3
   },
   "file_extension": ".py",
   "mimetype": "text/x-python",
   "name": "python",
   "nbconvert_exporter": "python",
   "pygments_lexer": "ipython3",
   "version": "3.9.13"
  }
 },
 "nbformat": 4,
 "nbformat_minor": 5
}
